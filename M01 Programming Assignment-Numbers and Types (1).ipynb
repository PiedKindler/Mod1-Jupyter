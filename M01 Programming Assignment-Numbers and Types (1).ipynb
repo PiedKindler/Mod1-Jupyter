{
 "cells": [
  {
   "cell_type": "code",
   "execution_count": 10,
   "id": "ac38106f",
   "metadata": {},
   "outputs": [
    {
     "name": "stdout",
     "output_type": "stream",
     "text": [
      "Misty Mayfield\n",
      "CO3937652\n",
      "SDEV220 Spring Software Development\n",
      "M01 Programming Assignment - Numbers and Types\n",
      "1/22/23\n"
     ]
    }
   ],
   "source": [
    "print(\"Misty Mayfield\")\n",
    "print(\"CO3937652\")\n",
    "print(\"SDEV220 Spring Software Development\")\n",
    "print(\"M01 Programming Assignment - Numbers and Types\")\n",
    "print(\"1/22/23\")"
   ]
  },
  {
   "cell_type": "code",
   "execution_count": 1,
   "id": "4c95b15e",
   "metadata": {},
   "outputs": [
    {
     "name": "stdout",
     "output_type": "stream",
     "text": [
      "How many seconds are in an hour?\n",
      "\n",
      "Well, since there are  60  seconds in a minute.\n",
      "Then there are  60  minutes in an hour.\n",
      "Therefore, there are  3600  seconds in an hour.\n",
      "\n",
      "How many seconds are in a day though?\n",
      "\n",
      "There are  86400  seconds in a day.\n",
      "This is because there are  24  hours in a day.\n",
      "\n",
      "These numbers all agree with my calculator.\n"
     ]
    }
   ],
   "source": [
    "print(\"How many seconds are in an hour?\")\n",
    "\n",
    "spm=60\n",
    "mph=60\n",
    "sph=spm*mph\n",
    "\n",
    "seconds_per_hour=sph\n",
    "\n",
    "print()\n",
    "print(\"Well, since there are \", spm, \" seconds in a minute.\")\n",
    "print(\"Then there are \", mph, \" minutes in an hour.\")\n",
    "\n",
    "print(\"Therefore, there are \", seconds_per_hour, \" seconds in an hour.\")\n",
    "\n",
    "print()\n",
    "print(\"How many seconds are in a day though?\")\n",
    "\n",
    "seconds_per_day=seconds_per_hour*24\n",
    "\n",
    "print()\n",
    "print(\"There are \", seconds_per_day, \" seconds in a day.\")\n",
    "\n",
    "hours=seconds_per_day//seconds_per_hour\n",
    "\n",
    "print(\"This is because there are \", hours, \" hours in a day.\")\n",
    "\n",
    "print()\n",
    "print(\"These numbers all agree with my calculator.\")\n"
   ]
  }
 ],
 "metadata": {
  "kernelspec": {
   "display_name": "Python 3 (ipykernel)",
   "language": "python",
   "name": "python3"
  },
  "language_info": {
   "codemirror_mode": {
    "name": "ipython",
    "version": 3
   },
   "file_extension": ".py",
   "mimetype": "text/x-python",
   "name": "python",
   "nbconvert_exporter": "python",
   "pygments_lexer": "ipython3",
   "version": "3.9.13"
  }
 },
 "nbformat": 4,
 "nbformat_minor": 5
}
